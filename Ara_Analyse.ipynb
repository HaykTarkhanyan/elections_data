{
 "cells": [
  {
   "cell_type": "code",
   "execution_count": 1,
   "id": "6336556c",
   "metadata": {},
   "outputs": [],
   "source": [
    "import pandas as pd\n",
    "import numpy as np"
   ]
  },
  {
   "cell_type": "code",
   "execution_count": 2,
   "id": "c7364103",
   "metadata": {},
   "outputs": [],
   "source": [
    "ed = pd.read_parquet(r'C:\\Users\\ara.sedrakyan\\Desktop\\elections_data\\elections.parquet')"
   ]
  },
  {
   "cell_type": "code",
   "execution_count": 3,
   "id": "73a002f3",
   "metadata": {},
   "outputs": [
    {
     "data": {
      "text/plain": [
       "Index(['azganun', 'anun', 'haeranun', 'or_amis_tari', 'marz', 'hamaenq',\n",
       "       'bnakavaer', 'hasce', 'taracq', 'texamas'],\n",
       "      dtype='object')"
      ]
     },
     "execution_count": 3,
     "metadata": {},
     "output_type": "execute_result"
    }
   ],
   "source": [
    "ed.columns"
   ]
  }
 ],
 "metadata": {
  "kernelspec": {
   "display_name": "Python 3",
   "language": "python",
   "name": "python3"
  },
  "language_info": {
   "codemirror_mode": {
    "name": "ipython",
    "version": 3
   },
   "file_extension": ".py",
   "mimetype": "text/x-python",
   "name": "python",
   "nbconvert_exporter": "python",
   "pygments_lexer": "ipython3",
   "version": "3.13.3"
  }
 },
 "nbformat": 4,
 "nbformat_minor": 5
}
