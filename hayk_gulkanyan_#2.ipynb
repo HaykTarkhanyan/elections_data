{
 "cells": [
  {
   "cell_type": "markdown",
   "id": "70009c35",
   "metadata": {},
   "source": [
    "People whose last name doesn't end in ''yan'' #2"
   ]
  },
  {
   "cell_type": "code",
   "execution_count": null,
   "id": "5f803449",
   "metadata": {},
   "outputs": [],
   "source": [
    "import pandas as pd\n",
    "\n",
    "df = pd.read_parquet('elections.parquet') "
   ]
  },
  {
   "cell_type": "code",
   "execution_count": 10,
   "id": "423a8519",
   "metadata": {},
   "outputs": [
    {
     "data": {
      "text/html": [
       "<div>\n",
       "<style scoped>\n",
       "    .dataframe tbody tr th:only-of-type {\n",
       "        vertical-align: middle;\n",
       "    }\n",
       "\n",
       "    .dataframe tbody tr th {\n",
       "        vertical-align: top;\n",
       "    }\n",
       "\n",
       "    .dataframe thead th {\n",
       "        text-align: right;\n",
       "    }\n",
       "</style>\n",
       "<table border=\"1\" class=\"dataframe\">\n",
       "  <thead>\n",
       "    <tr style=\"text-align: right;\">\n",
       "      <th></th>\n",
       "      <th>marz</th>\n",
       "      <th>count</th>\n",
       "    </tr>\n",
       "  </thead>\n",
       "  <tbody>\n",
       "    <tr>\n",
       "      <th>0</th>\n",
       "      <td>ԱՐԱԳԱԾՈՏՆ</td>\n",
       "      <td>1003</td>\n",
       "    </tr>\n",
       "    <tr>\n",
       "      <th>1</th>\n",
       "      <td>ԱՐԱՐԱՏ</td>\n",
       "      <td>4768</td>\n",
       "    </tr>\n",
       "    <tr>\n",
       "      <th>2</th>\n",
       "      <td>ԱՐՄԱՎԻՐ</td>\n",
       "      <td>2772</td>\n",
       "    </tr>\n",
       "    <tr>\n",
       "      <th>3</th>\n",
       "      <td>ԳԵՂԱՐՔՈՒՆԻՔ</td>\n",
       "      <td>1229</td>\n",
       "    </tr>\n",
       "    <tr>\n",
       "      <th>4</th>\n",
       "      <td>ԵՐԵՎԱՆ</td>\n",
       "      <td>25587</td>\n",
       "    </tr>\n",
       "    <tr>\n",
       "      <th>5</th>\n",
       "      <td>ԼՈՌԻ</td>\n",
       "      <td>5274</td>\n",
       "    </tr>\n",
       "    <tr>\n",
       "      <th>6</th>\n",
       "      <td>ԿՈՏԱՅՔ</td>\n",
       "      <td>4497</td>\n",
       "    </tr>\n",
       "    <tr>\n",
       "      <th>7</th>\n",
       "      <td>ՇԻՐԱԿ</td>\n",
       "      <td>1784</td>\n",
       "    </tr>\n",
       "    <tr>\n",
       "      <th>8</th>\n",
       "      <td>ՍՅՈՒՆԻՔ</td>\n",
       "      <td>3700</td>\n",
       "    </tr>\n",
       "    <tr>\n",
       "      <th>9</th>\n",
       "      <td>ՎԱՅՈՑ ՁՈՐ</td>\n",
       "      <td>295</td>\n",
       "    </tr>\n",
       "    <tr>\n",
       "      <th>10</th>\n",
       "      <td>ՏԱՎՈՒՇ</td>\n",
       "      <td>1103</td>\n",
       "    </tr>\n",
       "  </tbody>\n",
       "</table>\n",
       "</div>"
      ],
      "text/plain": [
       "           marz  count\n",
       "0     ԱՐԱԳԱԾՈՏՆ   1003\n",
       "1        ԱՐԱՐԱՏ   4768\n",
       "2       ԱՐՄԱՎԻՐ   2772\n",
       "3   ԳԵՂԱՐՔՈՒՆԻՔ   1229\n",
       "4        ԵՐԵՎԱՆ  25587\n",
       "5          ԼՈՌԻ   5274\n",
       "6        ԿՈՏԱՅՔ   4497\n",
       "7         ՇԻՐԱԿ   1784\n",
       "8       ՍՅՈՒՆԻՔ   3700\n",
       "9     ՎԱՅՈՑ ՁՈՐ    295\n",
       "10       ՏԱՎՈՒՇ   1103"
      ]
     },
     "execution_count": 10,
     "metadata": {},
     "output_type": "execute_result"
    }
   ],
   "source": [
    "df_no_yan = df[~df['azganun'].str.endswith('յան')].reset_index(drop = True)\n",
    "count_no_yan_province = df_no_yan.groupby('marz').size().reset_index(name = 'count')\n",
    "count_no_yan_province"
   ]
  }
 ],
 "metadata": {
  "kernelspec": {
   "display_name": "base",
   "language": "python",
   "name": "python3"
  },
  "language_info": {
   "codemirror_mode": {
    "name": "ipython",
    "version": 3
   },
   "file_extension": ".py",
   "mimetype": "text/x-python",
   "name": "python",
   "nbconvert_exporter": "python",
   "pygments_lexer": "ipython3",
   "version": "3.12.7"
  }
 },
 "nbformat": 4,
 "nbformat_minor": 5
}
